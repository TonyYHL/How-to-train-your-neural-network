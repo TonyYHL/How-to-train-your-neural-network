{
 "cells": [
  {
   "cell_type": "markdown",
   "id": "60ff4a7c-41cb-4c26-b3e4-01d6a7cd874a",
   "metadata": {},
   "source": [
    "# Polynomial curve fitting\n",
    "The task is to use a polynomial interpolate a curve.\n",
    "I will use a neural network approch to find an estimate for the coefficients of each term. "
   ]
  },
  {
   "cell_type": "markdown",
   "id": "4fa52dbc-c82c-482a-bb8d-2ff7bd0e4b2e",
   "metadata": {},
   "source": [
    "In this task the function we want to estimate is the sin(x) function.\n",
    "In neural network, everything returned by this function is called the 'observed value'."
   ]
  },
  {
   "cell_type": "code",
   "execution_count": null,
   "id": "42641451-b04f-4e53-bc2d-b407778dc985",
   "metadata": {},
   "outputs": [],
   "source": [
    "import matplotlib.pyplot as plt\n",
    "from math import sin, pi, cos"
   ]
  },
  {
   "cell_type": "code",
   "execution_count": null,
   "id": "03bc7a56-6228-40f8-9e81-d32485257d2d",
   "metadata": {},
   "outputs": [],
   "source": [
    "def observe_function(x):\n",
    "    return sin(x)"
   ]
  },
  {
   "cell_type": "markdown",
   "id": "b70e25d3-0da7-4ac2-a140-0f495491c292",
   "metadata": {},
   "source": [
    "This function creates a polynomial with degree of d, depending on the number of coefficients and will be kept constant throughout this program. "
   ]
  },
  {
   "cell_type": "code",
   "execution_count": null,
   "id": "414750fe-c02d-4af8-820c-bad428e88a68",
   "metadata": {},
   "outputs": [],
   "source": [
    "def func_definition(coefficients):\n",
    "    def func_eval(x):\n",
    "        return sum([coeff * x**power for power, coeff in enumerate(coefficients)])\n",
    "    return func_eval"
   ]
  },
  {
   "cell_type": "markdown",
   "id": "c17163f5-458c-495e-8705-1c8b8f4fe780",
   "metadata": {},
   "source": [
    "## Loss function\n",
    "In this task, the aim is to find a value for each coefficients such that they makes our polynomial return the best estimate of what a sin function would return given an input x. (Within a certain region, in this program 0<x<2pi)\n",
    "The 'loss function' is a more mathematicly rigorous method of defining how good our estimates are. \n",
    "It returns a numerical value of which 0 represent our estimates matches exactly with our observation."
   ]
  },
  {
   "cell_type": "code",
   "execution_count": null,
   "id": "421bf117-a4c0-4cf0-96f3-373d924cfe48",
   "metadata": {},
   "outputs": [],
   "source": [
    "def loss(observed_values, predicted_values) -> int:\n",
    "    # In here I used the 'square loss function'. This is just an arbitary choice.\n",
    "    # Do note that different loss function is suitable for different tasks. \n",
    "    # Do note that the derivative of the loss function needs to be computed if you are using 'gradient descent' to update the your weight.\n",
    "    return sum([(observed_values[i] - predicted_values[i])**2 for i in range(len(observed_values))])"
   ]
  },
  {
   "cell_type": "markdown",
   "id": "6a9e68ff-7f43-45fc-bcfe-018d7f3aed46",
   "metadata": {},
   "source": [
    "## Training function\n",
    "This function is used to optimise our neural network. \\\n",
    "Gradient descent is used to update the weight and below is the definition \\\n",
    "$w \\leftarrow w - \\eta \\times \\frac{\\partial L}{\\partial w}$ \\\n",
    "w: weight maxtrix \\\n",
    "$\\eta$(eta): Learning rate \\\n",
    "L: Loss function \n",
    "### How to find $\\frac{\\partial L}{\\partial w}$?\n",
    "We call the method of finding $\\frac{\\partial L}{\\partial w}$ 'backpropagation'. All it is is applying chain rule to differentiate the loss function. \\\n",
    "Recall our definition for L: $L(y,\\hat{y}) = (y - \\hat{y})^2$ \\\n",
    "y: observed value \\\n",
    "$\\hat{y}$(y hat): predicted value \\\n",
    "Recall our definition for $\\hat{y}$ is a polynomial of degree d, which can be written neatly in matrix form. \\\n",
    "$\\hat{y} = w_0 + w_1 x + ... + w_{d-1} x^{d-1} + w_d x^d = \n",
    "\\begin{bmatrix}\n",
    "w_0 \\\\\n",
    "w_1 \\\\\n",
    "\\vdots \\\\\n",
    "w_{d-1} \\\\\n",
    "w_d\n",
    "\\end{bmatrix} \\cdot \n",
    "\\begin{bmatrix}\n",
    "x^0 \\\\\n",
    "x^1 \\\\\n",
    "\\vdots \\\\\n",
    "x^{d-1} \\\\\n",
    "x^d\n",
    "\\end{bmatrix}\n",
    "$ \\\n",
    "Now apply chian rule:\n",
    "$\\frac{\\partial L}{\\partial w} = 2(y -\\hat{y}) \\otimes \n",
    "\\begin{bmatrix}x^0 & x^1 & \\dots & x^{d-1} & x^d\\end{bmatrix}$ \\\n",
    "Note $\\otimes$ denotes element-wise multiplication. \\\n",
    "You might also notices that $\\begin{bmatrix}x^0 & x^1 & \\dots & x^{d-1} & x^d\\end{bmatrix}$ is the tranposed matrix of $\\begin{bmatrix}x^0 \\\\x^1 \\\\\\vdots \\\\x^{d-1} \\\\x^d\\end{bmatrix}$ The reason for this is ommited in this program, it is just a rule when differentiating with matrix. \n",
    "### Learning rate $\\eta$\n",
    "The value for learning rate is highly dependent on your task. \\\n",
    "It is generally between 1E-2 - 1E-9. \\\n",
    "Value too high will result in 'exploding gradient' problem. \\\n",
    "Value too low will result in 'vanishing gradient' problem. "
   ]
  },
  {
   "cell_type": "code",
   "execution_count": null,
   "id": "50ee7769-593c-4bbf-8dc5-f9e3206bfbc8",
   "metadata": {},
   "outputs": [],
   "source": [
    "updated_weight = list\n",
    "inputs = [0, 0.25, 0.5, 1, 1.25, 1.5, 2, 2.5, 3, pi, 3.5, 4, 4.25, 4.5, 5, 5.25, 5.5, 6, 2*pi]\n",
    "\n",
    "# Since the inputs are raised to high degree of power, it is a common practice to normalise your inputs to ensure convergence. \n",
    "normalised_inputs = [x / (2 * pi) for x in inputs]  # Scale between 0 and 1"
   ]
  },
  {
   "cell_type": "code",
   "execution_count": null,
   "id": "05c6041a-d63c-49e5-af09-9ee8ef81e59e",
   "metadata": {},
   "outputs": [],
   "source": [
    "def update_weight(current_weight) -> updated_weight:\n",
    "    \n",
    "    f = func_definition(current_weight)\n",
    "\n",
    "    observed_values = list(map(observe_function, inputs))\n",
    "    predicted_values = list(map(f, normalised_inputs))\n",
    "    \n",
    "    a = 3e-2\n",
    "\n",
    "    def element_wise_add(mat_a,mat_b):\n",
    "        return [mat_a[i] + mat_b[i] for i in range(len(mat_a))]\n",
    "    def element_wise_min(mat_a,mat_b):\n",
    "        return [mat_a[i] - mat_b[i] for i in range(len(mat_a))]\n",
    "    def const_multiply_mat(const, mat):\n",
    "        return [const*element for element in mat]\n",
    "\n",
    "    resultant_dL_dw  = [0 for d in range(degree)]\n",
    "    for i, x in enumerate(normalised_inputs):\n",
    "        dy_dw = [x**d for d in range(degree)]\n",
    "        dL_dw = const_multiply_mat(2*(predicted_values[i]-observed_values[i]), dy_dw)\n",
    "        resultant_dL_dw = element_wise_add(resultant_dL_dw, dL_dw)\n",
    "    updated_weight = element_wise_min(current_weight, const_multiply_mat(a, resultant_dL_dw))\n",
    "    return updated_weight"
   ]
  },
  {
   "cell_type": "code",
   "execution_count": null,
   "id": "8932199d-ba82-49fe-aacf-019215faa533",
   "metadata": {},
   "outputs": [],
   "source": [
    "my_initial_coefficients = [0,0,0,0,0,0]\n",
    "degree = len(my_initial_coefficients)\n",
    "next_weight = update_weight(my_initial_coefficients)\n",
    "for t in range(10000):\n",
    "    next_weight = update_weight(next_weight)"
   ]
  },
  {
   "cell_type": "code",
   "execution_count": null,
   "id": "1362682e-1b52-4590-9ba2-badb01be666b",
   "metadata": {},
   "outputs": [
    {
     "data": {
      "image/png": "[encoded data removed]",
      "text/plain": [
       "<Figure size 640x480 with 1 Axes>"
      ]
     },
     "metadata": {},
     "output_type": "display_data"
    },
    {
     "name": "stdout",
     "output_type": "stream",
     "text": [
      "[0.11627168068501843, 6.06057500549673, -12.336108816471846, -3.076332012786117, 4.108462655057213, 5.355095676198918]\n"
     ]
    }
   ],
   "source": [
    "plt.plot(inputs, list(map(observe_function, inputs)), label=\"Observed\")\n",
    "plt.plot(inputs, list(map(func_definition(next_weight), normalised_inputs)), label=\"Predicted\")\n",
    "plt.legend()\n",
    "plt.show()\n",
    "print(next_weight)"
   ]
  },
  {
   "cell_type": "markdown",
   "id": "c8ad9222-674f-47bf-af15-c8ffcabf145d",
   "metadata": {},
   "source": [
    "## The essence of neural network\n",
    "A neural network essentially convert a problem into a task of finding the minimum for the loss function, which is a problem we can solve systematically. \\\n",
    "Though the term neural network has connotation with the network in our brain made up of neurons, that is in hindersight. (I think so personally). \n"
   ]
  }
 ],
 "metadata": {
  "kernelspec": {
   "display_name": "Python 3 (ipykernel)",
   "language": "python",
   "name": "python3"
  },
  "language_info": {
   "codemirror_mode": {
    "name": "ipython",
    "version": 3
   },
   "file_extension": ".py",
   "mimetype": "text/x-python",
   "name": "python",
   "nbconvert_exporter": "python",
   "pygments_lexer": "ipython3",
   "version": "3.13.2"
  }
 },
 "nbformat": 4,
 "nbformat_minor": 5
}
